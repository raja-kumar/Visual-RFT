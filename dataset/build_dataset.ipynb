{
 "cells": [
  {
   "cell_type": "code",
   "execution_count": 1,
   "id": "2f84d496-a970-452d-99a1-2f67718dff9b",
   "metadata": {},
   "outputs": [
    {
     "name": "stderr",
     "output_type": "stream",
     "text": [
      "/home/raja/miniforge3/envs/qwen2.5/lib/python3.10/site-packages/tqdm/auto.py:21: TqdmWarning: IProgress not found. Please update jupyter and ipywidgets. See https://ipywidgets.readthedocs.io/en/stable/user_install.html\n",
      "  from .autonotebook import tqdm as notebook_tqdm\n"
     ]
    }
   ],
   "source": [
    "import time\n",
    "from datasets import DatasetDict, Dataset\n",
    "from PIL import Image\n",
    "import json"
   ]
  },
  {
   "cell_type": "code",
   "execution_count": 16,
   "id": "6cde3909",
   "metadata": {},
   "outputs": [],
   "source": [
    "with open('/home/raja/OVOD/git_files/VLM-COT/data/oxford_flowers/zero_shot/subsample_base_train.json', 'r') as f:\n",
    "        data = json.load(f)\n",
    "\n",
    "image_paths = [item['image_path'] for item in data[:10]]"
   ]
  },
  {
   "cell_type": "code",
   "execution_count": 17,
   "id": "db1cc97a",
   "metadata": {},
   "outputs": [
    {
     "data": {
      "text/plain": [
       "['/home/raja/OVOD/git_files/VLM-COT/data/oxford_flowers/jpg/image_00949.jpg',\n",
       " '/home/raja/OVOD/git_files/VLM-COT/data/oxford_flowers/jpg/image_01093.jpg',\n",
       " '/home/raja/OVOD/git_files/VLM-COT/data/oxford_flowers/jpg/image_00947.jpg',\n",
       " '/home/raja/OVOD/git_files/VLM-COT/data/oxford_flowers/jpg/image_00974.jpg',\n",
       " '/home/raja/OVOD/git_files/VLM-COT/data/oxford_flowers/jpg/image_01072.jpg',\n",
       " '/home/raja/OVOD/git_files/VLM-COT/data/oxford_flowers/jpg/image_01034.jpg',\n",
       " '/home/raja/OVOD/git_files/VLM-COT/data/oxford_flowers/jpg/image_00986.jpg',\n",
       " '/home/raja/OVOD/git_files/VLM-COT/data/oxford_flowers/jpg/image_01032.jpg',\n",
       " '/home/raja/OVOD/git_files/VLM-COT/data/oxford_flowers/jpg/image_01106.jpg',\n",
       " '/home/raja/OVOD/git_files/VLM-COT/data/oxford_flowers/jpg/image_00969.jpg']"
      ]
     },
     "execution_count": 17,
     "metadata": {},
     "output_type": "execute_result"
    }
   ],
   "source": [
    "image_paths"
   ]
  },
  {
   "cell_type": "code",
   "execution_count": 18,
   "id": "5a8ba1f2-d465-4b78-a48a-744f591a14ab",
   "metadata": {},
   "outputs": [
    {
     "name": "stdout",
     "output_type": "stream",
     "text": [
      "Fri Jun 20 00:39:45 2025\n",
      "{'image': [<PIL.Image.Image image mode=RGBA size=675x500 at 0x7FB386E8A2F0>, <PIL.Image.Image image mode=RGBA size=752x500 at 0x7FB2F3021C00>, <PIL.Image.Image image mode=RGBA size=641x500 at 0x7FB2F24A4520>, <PIL.Image.Image image mode=RGBA size=752x500 at 0x7FB2F24A6E30>, <PIL.Image.Image image mode=RGBA size=752x500 at 0x7FB2F24A5BD0>, <PIL.Image.Image image mode=RGBA size=752x500 at 0x7FB2F24A7B20>, <PIL.Image.Image image mode=RGBA size=752x500 at 0x7FB2F24A63B0>, <PIL.Image.Image image mode=RGBA size=752x500 at 0x7FB2F24A6DA0>, <PIL.Image.Image image mode=RGBA size=500x752 at 0x7FB2F24A4BB0>, <PIL.Image.Image image mode=RGBA size=810x500 at 0x7FB2F24A6050>], 'problem': [' This is an image containing a plant. Please identify the species of the plant based on the image.\\nOutput the thinking process in <think> </think> and final answer in <answer> </answer> tags.The output answer format should be as follows:\\n<think> ... </think> <answer>species name</answer>\\nPlease strictly follow the format. ', ' This is an image containing a plant. Please identify the species of the plant based on the image.\\nOutput the thinking process in <think> </think> and final answer in <answer> </answer> tags.The output answer format should be as follows:\\n<think> ... </think> <answer>species name</answer>\\nPlease strictly follow the format. ', ' This is an image containing a plant. Please identify the species of the plant based on the image.\\nOutput the thinking process in <think> </think> and final answer in <answer> </answer> tags.The output answer format should be as follows:\\n<think> ... </think> <answer>species name</answer>\\nPlease strictly follow the format. ', ' This is an image containing a plant. Please identify the species of the plant based on the image.\\nOutput the thinking process in <think> </think> and final answer in <answer> </answer> tags.The output answer format should be as follows:\\n<think> ... </think> <answer>species name</answer>\\nPlease strictly follow the format. ', ' This is an image containing a plant. Please identify the species of the plant based on the image.\\nOutput the thinking process in <think> </think> and final answer in <answer> </answer> tags.The output answer format should be as follows:\\n<think> ... </think> <answer>species name</answer>\\nPlease strictly follow the format. ', ' This is an image containing a plant. Please identify the species of the plant based on the image.\\nOutput the thinking process in <think> </think> and final answer in <answer> </answer> tags.The output answer format should be as follows:\\n<think> ... </think> <answer>species name</answer>\\nPlease strictly follow the format. ', ' This is an image containing a plant. Please identify the species of the plant based on the image.\\nOutput the thinking process in <think> </think> and final answer in <answer> </answer> tags.The output answer format should be as follows:\\n<think> ... </think> <answer>species name</answer>\\nPlease strictly follow the format. ', ' This is an image containing a plant. Please identify the species of the plant based on the image.\\nOutput the thinking process in <think> </think> and final answer in <answer> </answer> tags.The output answer format should be as follows:\\n<think> ... </think> <answer>species name</answer>\\nPlease strictly follow the format. ', ' This is an image containing a plant. Please identify the species of the plant based on the image.\\nOutput the thinking process in <think> </think> and final answer in <answer> </answer> tags.The output answer format should be as follows:\\n<think> ... </think> <answer>species name</answer>\\nPlease strictly follow the format. ', ' This is an image containing a plant. Please identify the species of the plant based on the image.\\nOutput the thinking process in <think> </think> and final answer in <answer> </answer> tags.The output answer format should be as follows:\\n<think> ... </think> <answer>species name</answer>\\nPlease strictly follow the format. '], 'solution': ['<answer>wallflower</answer>', '<answer>wallflower</answer>', '<answer>wallflower</answer>', '<answer>wallflower</answer>', '<answer>wallflower</answer>', '<answer>wallflower</answer>', '<answer>wallflower</answer>', '<answer>wallflower</answer>', '<answer>wallflower</answer>', '<answer>wallflower</answer>']}\n",
      "Fri Jun 20 00:39:46 2025\n"
     ]
    }
   ],
   "source": [
    "\"\"\"\n",
    "turn your json to DatasetDict\n",
    "\"\"\"\n",
    "def json_to_dataset(json_file_path):\n",
    "    # read json file\n",
    "    with open(json_file_path, 'r') as f:\n",
    "        data = json.load(f)\n",
    "\n",
    "    image_paths = [item['image_path'] for item in data[:10]]\n",
    "    problems = [item['problem'] for item in data[:10]]\n",
    "    solutions = [item['solution'] for item in data[:10]]\n",
    "\n",
    "    images = [Image.open(image_path).convert('RGBA') for image_path in image_paths]\n",
    "\n",
    "    dataset_dict = {\n",
    "        'image': images,\n",
    "        'problem': problems,\n",
    "        'solution': solutions\n",
    "    }\n",
    "\n",
    "    print(dataset_dict)\n",
    "\n",
    "    dataset = Dataset.from_dict(dataset_dict)\n",
    "    dataset_dict = DatasetDict({\n",
    "        'train': dataset\n",
    "    })\n",
    "    return dataset_dict\n",
    "\n",
    "\n",
    "time1 = time.asctime()\n",
    "print(time1)\n",
    "### Your dataset in JSON file format consists of three parts: image, problem and solution\n",
    "dataset_dict = json_to_dataset('/home/raja/OVOD/git_files/VLM-COT/data/oxford_flowers/zero_shot/subsample_base_train.json')\n",
    "time2 = time.asctime()\n",
    "print(time2)"
   ]
  },
  {
   "cell_type": "code",
   "execution_count": 13,
   "id": "0e2a20b4-131f-49fa-baee-4c2675479de3",
   "metadata": {},
   "outputs": [
    {
     "name": "stderr",
     "output_type": "stream",
     "text": [
      "Saving the dataset (1/1 shards): 100%|██████████| 10/10 [00:00<00:00, 1216.52 examples/s]\n"
     ]
    }
   ],
   "source": [
    "\"\"\"\n",
    "save to your local disk\n",
    "\"\"\"\n",
    "def save_dataset(dataset_dict, save_path):\n",
    "    # save DatasetDict to your disk\n",
    "    dataset_dict.save_to_disk(save_path)\n",
    "\n",
    "save_path = '/home/raja/OVOD/git_files/VLM-COT/data/oxford_flowers/zero_shot/subsample_base_train_sample_dataset'\n",
    "save_dataset(dataset_dict, save_path)"
   ]
  },
  {
   "cell_type": "code",
   "execution_count": 14,
   "id": "22aa1938-3b68-4df3-896d-74c8b7c854c3",
   "metadata": {},
   "outputs": [],
   "source": [
    "\"\"\"\n",
    "read from your local disk\n",
    "\"\"\"\n",
    "def load_dataset(save_path):\n",
    "    # load DatasetDict\n",
    "    return DatasetDict.load_from_disk(save_path)\n",
    "\n",
    "test_dataset_dict = load_dataset('/home/raja/OVOD/git_files/VLM-COT/data/oxford_flowers/zero_shot/subsample_base_train_sample_dataset')"
   ]
  },
  {
   "cell_type": "code",
   "execution_count": 19,
   "id": "97334be4",
   "metadata": {},
   "outputs": [
    {
     "ename": "AttributeError",
     "evalue": "'DatasetDict' object has no attribute 'features'",
     "output_type": "error",
     "traceback": [
      "\u001b[0;31m---------------------------------------------------------------------------\u001b[0m",
      "\u001b[0;31mAttributeError\u001b[0m                            Traceback (most recent call last)",
      "Cell \u001b[0;32mIn[19], line 1\u001b[0m\n\u001b[0;32m----> 1\u001b[0m \u001b[43mtest_dataset_dict\u001b[49m\u001b[38;5;241;43m.\u001b[39;49m\u001b[43mfeatures\u001b[49m\n",
      "\u001b[0;31mAttributeError\u001b[0m: 'DatasetDict' object has no attribute 'features'"
     ]
    }
   ],
   "source": [
    "test_dataset_dict.features"
   ]
  },
  {
   "cell_type": "code",
   "execution_count": null,
   "id": "8786fe9a",
   "metadata": {},
   "outputs": [],
   "source": []
  }
 ],
 "metadata": {
  "kernelspec": {
   "display_name": "qwen2.5",
   "language": "python",
   "name": "python3"
  },
  "language_info": {
   "codemirror_mode": {
    "name": "ipython",
    "version": 3
   },
   "file_extension": ".py",
   "mimetype": "text/x-python",
   "name": "python",
   "nbconvert_exporter": "python",
   "pygments_lexer": "ipython3",
   "version": "3.10.0"
  }
 },
 "nbformat": 4,
 "nbformat_minor": 5
}
